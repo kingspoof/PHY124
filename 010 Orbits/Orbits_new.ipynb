{
 "cells": [
  {
   "cell_type": "code",
   "execution_count": null,
   "metadata": {},
   "outputs": [],
   "source": [
    "import numpy as np\n",
    "from matplotlib import pyplot as plt\n",
    "from Overhead import *"
   ]
  },
  {
   "cell_type": "code",
   "execution_count": null,
   "metadata": {},
   "outputs": [],
   "source": [
    "P1 = Planet(1.576e-6, [-7.328e-1, -5.748e-2], [9.896e-9, -1.088e-6])\n",
    "P2 = Planet(1.010e-10, [-6.437e+00, -6.012e+00], [3.543e-04, -3.251e-04])\n",
    "P3 = Planet(3.358e-09, [4.215e+01, -4.449e+01], [8.524e-05,1.385e-04])\n",
    "P4 = Planet(1.070e-08, [9.754e+01,2.414e+01], [-3.267e-05, 1.216e-04])\n",
    "P5 = Planet( 2.160e-10, [-1.364e+02, -8.212e+01], [5.521e-05, -8.753e-05])\n",
    "\n",
    "System = SolarSystem([P1, P2, P3, P4, P5], 60) \n",
    "\n",
    "\n",
    "for i in range(0, 60): \n",
    "    System.update_acceleration()\n",
    "    System.update_velocity()\n",
    "    System.update_position()"
   ]
  },
  {
   "cell_type": "code",
   "execution_count": null,
   "metadata": {},
   "outputs": [],
   "source": [
    "for planet in [P1, P2, P3, P4, P5]:\n",
    "    plt.plot([i[0] for i in planet.positions], [[i[1]] for i in planet.positions])\n",
    "#plt.scatter([i[0] for i in P2.positions], [[i[1]] for i in P2.positions])\n",
    "#plt.scatter([i[0] for i in P3.positions], [[i[1]] for i in P3.positions])\n",
    "plt.xlim(-6e10, 6e10)\n",
    "plt.ylim(-6e10, 6e10)"
   ]
  },
  {
   "cell_type": "code",
   "execution_count": null,
   "metadata": {},
   "outputs": [],
   "source": [
    "# now we can check for the energy conservation\n",
    "#calculate the total kinetic energy for each time step\n",
    "N = len([P1, P2, P3, P4, P5])\n",
    "planets = System.planets\n",
    "c = GravitationalConstant / LightSpeed\n",
    "\n",
    "ekin = []\n",
    "for i in range(len(P1.positions)):\n",
    "    tot = 0\n",
    "    for p in planets:\n",
    "        tot += 1/2 *  (p.mass) * ((p.velocities[i][0]**2) + (p.velocities[i][1])**2)\n",
    "    ekin.append(tot)\n",
    "\n",
    "epot = []\n",
    "for i in range(len(P1.positions)): # enumerate(P1.position)\n",
    "    tot = 0\n",
    "    for k in range(N):\n",
    "        for l in range(k):\n",
    "            distance = calculate_distance(planets[k].positions[i], planets[l].positions[i])\n",
    "            potential_energy = - planets[l].mass * planets[k].mass * GravitationalConstant / distance\n",
    "            tot += potential_energy\n",
    "    epot.append(tot)\n",
    "print(epot)\n",
    "\n",
    "etot = []\n",
    "for i in range(len(epot)):\n",
    "    etot.append(epot[i] + ekin[i])\n",
    "\n",
    "#plt.plot(epot, label='Potential Energy')\n",
    "#plt.plot(ekin, label='Kinetic Energy')\n",
    "plt.plot(etot, label='Total Energy')\n",
    "plt.legend()"
   ]
  }
 ],
 "metadata": {
  "kernelspec": {
   "display_name": "Python 3",
   "language": "python",
   "name": "python3"
  },
  "language_info": {
   "codemirror_mode": {
    "name": "ipython",
    "version": 3
   },
   "file_extension": ".py",
   "mimetype": "text/x-python",
   "name": "python",
   "nbconvert_exporter": "python",
   "pygments_lexer": "ipython3",
   "version": "3.11.8"
  }
 },
 "nbformat": 4,
 "nbformat_minor": 2
}
