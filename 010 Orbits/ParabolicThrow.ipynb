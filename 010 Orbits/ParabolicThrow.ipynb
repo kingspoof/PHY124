{
 "cells": [
  {
   "cell_type": "code",
   "execution_count": null,
   "metadata": {},
   "outputs": [],
   "source": [
    "import numpy as np\n",
    "from scipy.integrate import odeint\n",
    "import matplotlib.pyplot as plt\n",
    "\n",
    "\n",
    "\n",
    "state0 = [0, 0, 12, 12]\n",
    "t = [i/100 for i in range(0, 500)]\n",
    "\n",
    "\n",
    "def acceleration(state, t):\n",
    "    x, y, vx, vy = state\n",
    "    dxdt = vx\n",
    "    dydt = vy\n",
    "    dvxdt = 0\n",
    "    dvydt = -9.81\n",
    "    return [dxdt, dydt, dvxdt, dvydt]\n",
    "states = odeint(acceleration, state0, t)\n",
    "\n",
    "\n",
    "x = states[:, 0]\n",
    "y = states[:, 1]\n",
    "vx = states[:, 2]\n",
    "vy = states[:, 3]\n",
    "\n",
    "\n",
    "#plt.plot(t, x, label='x-position')\n",
    "#plt.plot(t, y, label='y-position')\n",
    "#plt.plot(t, vx, label='x-velocity')\n",
    "#plt.plot(t, vy, label='y-velocity')\n",
    "plt.plot(x, y)\n",
    "plt.grid(True)\n",
    "plt.legend()\n",
    "plt.show()\n",
    "\n",
    "\n",
    "index = t.index(3.9)\n",
    "print(x[index], y[index])"
   ]
  }
 ],
 "metadata": {
  "kernelspec": {
   "display_name": "Python 3",
   "language": "python",
   "name": "python3"
  },
  "language_info": {
   "codemirror_mode": {
    "name": "ipython",
    "version": 3
   },
   "file_extension": ".py",
   "mimetype": "text/x-python",
   "name": "python",
   "nbconvert_exporter": "python",
   "pygments_lexer": "ipython3",
   "version": "3.11.8"
  }
 },
 "nbformat": 4,
 "nbformat_minor": 2
}
