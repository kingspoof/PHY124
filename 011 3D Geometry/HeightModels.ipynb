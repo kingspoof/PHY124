{
 "cells": [
  {
   "cell_type": "code",
   "execution_count": null,
   "metadata": {},
   "outputs": [],
   "source": [
    "import numpy as np\n",
    "from matplotlib import pyplot as plt\n",
    "\n",
    "filename = 'data/surface.xyz'"
   ]
  },
  {
   "cell_type": "code",
   "execution_count": null,
   "metadata": {},
   "outputs": [],
   "source": [
    "# load the height_map\n",
    "base_data = np.loadtxt(filename, delimiter=' ', skiprows=1)"
   ]
  },
  {
   "cell_type": "code",
   "execution_count": null,
   "metadata": {},
   "outputs": [],
   "source": [
    "# change the array from 3d to 2d x 1d\n",
    "dimension = 2000\n",
    "\n",
    "#for this height map, we define the first coordinate as the x and the second as the y\n",
    "# height_map = [[0 for x in range(dimension)] for h in range(dimension)]\n",
    "\n",
    "# i = 0\n",
    "# for w in range(2000):\n",
    "#     for h in range(2000):\n",
    "#         height_map[1999 - w][h] = base_data[i][2]\n",
    "#         i += 1\n",
    "\n",
    "\n",
    "z = base_data[:,2].reshape(2000, 2000)\n",
    "y = base_data[:,1].reshape(2000, 2000)\n",
    "x = base_data[:,0].reshape(2000, 2000)\n",
    "\n",
    "\n",
    "\n",
    "\n",
    "plt.contourf(x,y,z, levels=100)"
   ]
  }
 ],
 "metadata": {
  "kernelspec": {
   "display_name": "Python 3",
   "language": "python",
   "name": "python3"
  },
  "language_info": {
   "codemirror_mode": {
    "name": "ipython",
    "version": 3
   },
   "file_extension": ".py",
   "mimetype": "text/x-python",
   "name": "python",
   "nbconvert_exporter": "python",
   "pygments_lexer": "ipython3",
   "version": "3.11.9"
  }
 },
 "nbformat": 4,
 "nbformat_minor": 2
}
