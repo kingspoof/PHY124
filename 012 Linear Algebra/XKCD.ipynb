{
 "cells": [
  {
   "cell_type": "code",
   "execution_count": null,
   "metadata": {},
   "outputs": [],
   "source": [
    "import numpy as np\n",
    "\n",
    "\n",
    "\n",
    "N = 50 # taking a value under 3 does not work, and a value over 100 takes ages\n",
    "grid = np.zeros((N, N))\n",
    "matrix = np.zeros((N*N, N*N))\n",
    "\n",
    "current = 0\n",
    "for i in range(N): \n",
    "    for j in range(N):\n",
    "        grid[i, j] = current\n",
    "        current += 1\n",
    "\n",
    "def find_neighbors(position, size):\n",
    "    return [[(x + dx) % size, (y+dy) % size] for dx, dy in [[-1, 0], [1, 0], [0, -1], [0, 1]]]\n",
    "\n",
    "def find_resistor(array, index):\n",
    "    for w in range(len(array[0])):\n",
    "        for h in range(len(array)):\n",
    "            if(array[w, h] == index):\n",
    "                return w, h\n",
    "\n",
    "for i in range(N*N):\n",
    "    #get the coordinates of the current resistor\n",
    "    x, y = find_resistor(grid, i)\n",
    "    neighbors = [grid[dx, dy] for dx, dy in find_neighbors((x, y), N)]\n",
    "    matrix[i,i] = 4\n",
    "    for j in neighbors:\n",
    "        matrix[i, int(j)] = -1\n",
    "    \n"
   ]
  },
  {
   "cell_type": "code",
   "execution_count": null,
   "metadata": {},
   "outputs": [],
   "source": [
    "vector = [0 for i in range(N*N)]\n",
    "index1 = int(N*N/2 -1/2)\n",
    "index2 = index1 - N +2\n",
    "vector[index1] = 1\n",
    "vector[index2] = -1\n",
    "\n",
    "V = np.linalg.solve(matrix, vector)\n",
    "print(round(V[index1] - V[index2],3))"
   ]
  }
 ],
 "metadata": {
  "kernelspec": {
   "display_name": "Python 3",
   "language": "python",
   "name": "python3"
  },
  "language_info": {
   "codemirror_mode": {
    "name": "ipython",
    "version": 3
   },
   "file_extension": ".py",
   "mimetype": "text/x-python",
   "name": "python",
   "nbconvert_exporter": "python",
   "pygments_lexer": "ipython3",
   "version": "3.11.8"
  }
 },
 "nbformat": 4,
 "nbformat_minor": 2
}
