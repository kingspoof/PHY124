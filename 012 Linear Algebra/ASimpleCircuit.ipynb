{
 "cells": [
  {
   "cell_type": "code",
   "execution_count": null,
   "metadata": {},
   "outputs": [],
   "source": [
    "import numpy as np"
   ]
  },
  {
   "cell_type": "code",
   "execution_count": null,
   "metadata": {},
   "outputs": [],
   "source": [
    "#this is the solution to the first problem\n",
    "matrix = np.array([\n",
    "    [2, -1, -1, 0],\n",
    "    [-1, 3, -1, -1],\n",
    "    [-1, -1, 3, -1],\n",
    "    [0, -1, -1, 2]\n",
    "])\n",
    "#vector = np.array([v0, v1, v2, v3])\n",
    "result_vector = np.array([1,0,0,-1])\n",
    "print(np.linalg.solve(matrix, result_vector))"
   ]
  },
  {
   "cell_type": "code",
   "execution_count": null,
   "metadata": {},
   "outputs": [],
   "source": [
    "#this is the solution to the second problem\n",
    "matrix = np.array([\n",
    "    [4, -2, -1, 0, -1, 0, 0, 0],\n",
    "    [-2, 4, 0, -1, 0, 0, 0, -1],\n",
    "    [-1, 0, 3, -1, 0, -1, 0, 0],\n",
    "    [0, -1, -1, 3, 0, 0, -1, 0],\n",
    "    [-1, 0, 0, 0, 3, -1, 0, -1],\n",
    "    [0, 0, -1, 0, -1, 3, -1, 0],\n",
    "    [0, 0, 0, -1, 0, -1, 3, -1],\n",
    "    [0, 0, 0, -1, -1, 0, -1, 3],\n",
    "])\n",
    "result_vector = np.array([1, 0, 0, 0, 0, 0, 0, -1])\n",
    "print(np.linalg.solve(matrix, result_vector))"
   ]
  }
 ],
 "metadata": {
  "kernelspec": {
   "display_name": "Python 3",
   "language": "python",
   "name": "python3"
  },
  "language_info": {
   "codemirror_mode": {
    "name": "ipython",
    "version": 3
   },
   "file_extension": ".py",
   "mimetype": "text/x-python",
   "name": "python",
   "nbconvert_exporter": "python",
   "pygments_lexer": "ipython3",
   "version": "3.11.8"
  }
 },
 "nbformat": 4,
 "nbformat_minor": 2
}
