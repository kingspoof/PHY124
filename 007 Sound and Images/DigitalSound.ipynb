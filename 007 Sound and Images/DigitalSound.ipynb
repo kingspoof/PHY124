{
 "cells": [
  {
   "cell_type": "code",
   "execution_count": 85,
   "metadata": {},
   "outputs": [
    {
     "name": "stdout",
     "output_type": "stream",
     "text": [
      "{'A': 196, 'Bb': 207.6547664944219, 'B': 220.0025614686371, 'C': 233.08459454053332, 'D': 261.62861141732674, 'D+': 277.18585822512665, 'E': 293.6681870678296, 'E+': 311.1306061857671, 'F': 329.63139477945606, 'F+': 349.232297511013, 'G': 369.9987305712238, 'G+': 392.0}\n"
     ]
    },
    {
     "ename": "TypeError",
     "evalue": "note() missing 1 required positional argument: 'd'",
     "output_type": "error",
     "traceback": [
      "\u001b[0;31m---------------------------------------------------------------------------\u001b[0m",
      "\u001b[0;31mTypeError\u001b[0m                                 Traceback (most recent call last)",
      "Cell \u001b[0;32mIn[85], line 56\u001b[0m\n\u001b[1;32m     34\u001b[0m     sig[\u001b[38;5;241m-\u001b[39m\u001b[38;5;241m1000\u001b[39m:] \u001b[38;5;241m=\u001b[39m sig[\u001b[38;5;241m-\u001b[39m\u001b[38;5;241m1000\u001b[39m:] \u001b[38;5;241m*\u001b[39m np\u001b[38;5;241m.\u001b[39mlinspace(\u001b[38;5;241m1\u001b[39m,\u001b[38;5;241m0\u001b[39m,\u001b[38;5;241m1000\u001b[39m)\n\u001b[1;32m     36\u001b[0m     \u001b[38;5;28;01mreturn\u001b[39;00m sig\n\u001b[1;32m     38\u001b[0m sig \u001b[38;5;241m=\u001b[39m [\n\u001b[1;32m     39\u001b[0m     note(\u001b[38;5;124m'\u001b[39m\u001b[38;5;124mC\u001b[39m\u001b[38;5;124m'\u001b[39m, \u001b[38;5;241m2\u001b[39m),\n\u001b[1;32m     40\u001b[0m     note(\u001b[38;5;124m'\u001b[39m\u001b[38;5;124mC\u001b[39m\u001b[38;5;124m'\u001b[39m, \u001b[38;5;241m2\u001b[39m),\n\u001b[1;32m     41\u001b[0m     note(\u001b[38;5;124m'\u001b[39m\u001b[38;5;124mC\u001b[39m\u001b[38;5;124m'\u001b[39m, \u001b[38;5;241m2\u001b[39m),\n\u001b[1;32m     42\u001b[0m     note(\u001b[38;5;124m'\u001b[39m\u001b[38;5;124mA\u001b[39m\u001b[38;5;124m'\u001b[39m, \u001b[38;5;241m1\u001b[39m),\n\u001b[1;32m     43\u001b[0m     note(\u001b[38;5;124m'\u001b[39m\u001b[38;5;124mE\u001b[39m\u001b[38;5;124m'\u001b[39m, \u001b[38;5;241m1\u001b[39m),\n\u001b[1;32m     44\u001b[0m \n\u001b[1;32m     45\u001b[0m     note(\u001b[38;5;124m'\u001b[39m\u001b[38;5;124mC\u001b[39m\u001b[38;5;124m'\u001b[39m, \u001b[38;5;241m2\u001b[39m),\n\u001b[1;32m     46\u001b[0m     note(\u001b[38;5;124m'\u001b[39m\u001b[38;5;124mA\u001b[39m\u001b[38;5;124m'\u001b[39m, \u001b[38;5;241m1\u001b[39m),\n\u001b[1;32m     47\u001b[0m     note(\u001b[38;5;124m'\u001b[39m\u001b[38;5;124mE\u001b[39m\u001b[38;5;124m'\u001b[39m, \u001b[38;5;241m1\u001b[39m),\n\u001b[1;32m     48\u001b[0m     note(\u001b[38;5;124m'\u001b[39m\u001b[38;5;124mC\u001b[39m\u001b[38;5;124m'\u001b[39m, \u001b[38;5;241m4\u001b[39m),\n\u001b[1;32m     49\u001b[0m \n\u001b[1;32m     50\u001b[0m     note(\u001b[38;5;124m'\u001b[39m\u001b[38;5;124mG\u001b[39m\u001b[38;5;124m'\u001b[39m, \u001b[38;5;241m2\u001b[39m),\n\u001b[1;32m     51\u001b[0m     note(\u001b[38;5;124m'\u001b[39m\u001b[38;5;124mG\u001b[39m\u001b[38;5;124m'\u001b[39m, \u001b[38;5;241m2\u001b[39m),\n\u001b[1;32m     52\u001b[0m     note(\u001b[38;5;124m'\u001b[39m\u001b[38;5;124mG\u001b[39m\u001b[38;5;124m'\u001b[39m, \u001b[38;5;241m2\u001b[39m),\n\u001b[1;32m     53\u001b[0m     note(\u001b[38;5;124m'\u001b[39m\u001b[38;5;124mG+\u001b[39m\u001b[38;5;124m'\u001b[39m, \u001b[38;5;241m1\u001b[39m),\n\u001b[1;32m     54\u001b[0m     note(\u001b[38;5;124m'\u001b[39m\u001b[38;5;124mE\u001b[39m\u001b[38;5;124m'\u001b[39m, \u001b[38;5;241m1\u001b[39m),\n\u001b[1;32m     55\u001b[0m \n\u001b[0;32m---> 56\u001b[0m     \u001b[43mnote\u001b[49m\u001b[43m(\u001b[49m\u001b[38;5;124;43m'\u001b[39;49m\u001b[38;5;124;43mG+\u001b[39;49m\u001b[38;5;124;43m'\u001b[39;49m\u001b[43m)\u001b[49m\n\u001b[1;32m     57\u001b[0m ]\n\u001b[1;32m     58\u001b[0m ton \u001b[38;5;241m=\u001b[39m np\u001b[38;5;241m.\u001b[39mconcatenate(sig, sig)\n\u001b[1;32m     59\u001b[0m wav\u001b[38;5;241m.\u001b[39mwrite(\u001b[38;5;124m'\u001b[39m\u001b[38;5;124mdata/test.wav\u001b[39m\u001b[38;5;124m'\u001b[39m, SFREQ, ton)\n",
      "\u001b[0;31mTypeError\u001b[0m: note() missing 1 required positional argument: 'd'"
     ]
    }
   ],
   "source": [
    "import numpy as np\n",
    "import matplotlib.pyplot as plt\n",
    "import scipy.io.wavfile as wav\n",
    "\n",
    "\n",
    "SFREQ = 48000\n",
    "base = 196\n",
    "freq = {\n",
    "    'A': base,\n",
    "    'Bb': base * (2 ** (1/12)),  # B♭\n",
    "    'B': base * (2 ** (2/12)) ,  # B\n",
    "    'C': base * (2 ** (3/12)) ,  # C\n",
    "    'D': base * (2 ** (5/12)) ,  # D\n",
    "    'D+': base * (2 ** (6/12))  , # D+\n",
    "    'E': base * (2 ** (7/12))  , # E\n",
    "    'E+': base * (2 ** (8/12))  , # E+\n",
    "    'F': base * (2 ** (9/12))  , # F\n",
    "    'F+': base * (2 ** (10/12))  , # F+\n",
    "    'G': base * (2 ** (11/12))  ,# G\n",
    "    'G+': base * (2 ** (12/12))  ,# G+\n",
    "}\n",
    "print(freq)\n",
    "\n",
    "def note(f, d, s=1):\n",
    "    f = freq[f]\n",
    "    d = (1 / 4) * d\n",
    "\n",
    "    t = np.linspace(0, s, int(d*48000))\n",
    "    w = 2 * np.pi * f\n",
    "\n",
    "    sig = np.sin(w * t)\n",
    "\n",
    "    sig[:1000] = sig[:1000] * np.linspace(0,1,1000)\n",
    "    sig[-1000:] = sig[-1000:] * np.linspace(1,0,1000)\n",
    "\n",
    "    return sig\n",
    "\n",
    "sig = [\n",
    "    note('C', 2),\n",
    "    note('C', 2),\n",
    "    note('C', 2),\n",
    "    note('A', 1),\n",
    "    note('E', 1),\n",
    "\n",
    "    note('C', 2),\n",
    "    note('A', 1),\n",
    "    note('E', 1),\n",
    "    note('C', 4),\n",
    "\n",
    "    note('G', 2),\n",
    "    note('G', 2),\n",
    "    note('G', 2),\n",
    "    note('G+', 1),\n",
    "    note('E', 1),\n",
    "\n",
    "    note('G+')\n",
    "]\n",
    "ton = np.concatenate(sig, sig)\n",
    "wav.write('data/test.wav', SFREQ, ton)\n",
    "\n",
    "\n",
    "plt.plot(ton)\n"
   ]
  }
 ],
 "metadata": {
  "kernelspec": {
   "display_name": "Python 3",
   "language": "python",
   "name": "python3"
  },
  "language_info": {
   "codemirror_mode": {
    "name": "ipython",
    "version": 3
   },
   "file_extension": ".py",
   "mimetype": "text/x-python",
   "name": "python",
   "nbconvert_exporter": "python",
   "pygments_lexer": "ipython3",
   "version": "3.11.8"
  }
 },
 "nbformat": 4,
 "nbformat_minor": 2
}
