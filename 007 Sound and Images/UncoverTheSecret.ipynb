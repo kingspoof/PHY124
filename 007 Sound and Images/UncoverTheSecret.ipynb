{
 "cells": [
  {
   "cell_type": "code",
   "execution_count": 3,
   "metadata": {},
   "outputs": [
    {
     "data": {
      "text/plain": [
       "<matplotlib.image.AxesImage at 0x12ccdf1d0>"
      ]
     },
     "execution_count": 3,
     "metadata": {},
     "output_type": "execute_result"
    },
    {
     "data": {
      "image/png": "[encoded data removed]",
      "text/plain": [
       "<Figure size 640x480 with 1 Axes>"
      ]
     },
     "metadata": {},
     "output_type": "display_data"
    }
   ],
   "source": [
    "import numpy as np\n",
    "import matplotlib.pyplot as plt\n",
    "\n",
    "\n",
    "width = 30\n",
    "height = 10\n",
    "result = [[0 for x in range(width)] for y in range(height)]\n",
    "\n",
    "pic = plt.imread('data/img001.png')\n",
    "#print(len(pic)) # first coordinate is height, second is width\n",
    "\n",
    "for h in range(0, 10):\n",
    "    for w in range(0, 30):\n",
    "        result[h][w] = np.average(pic[(h)*100:(h+1)*100, (w)*100:(w+1)*100])\n",
    "        #subarray = pic[(h-1)*100:(h)*100, (w-1)*100:(w)*100]\n",
    "        #average = np.average(subarray)\n",
    "        #result[h-1][w-1] = average\n",
    "\n",
    "plt.imshow(result)\n",
    "\n"
   ]
  }
 ],
 "metadata": {
  "kernelspec": {
   "display_name": "Python 3",
   "language": "python",
   "name": "python3"
  },
  "language_info": {
   "codemirror_mode": {
    "name": "ipython",
    "version": 3
   },
   "file_extension": ".py",
   "mimetype": "text/x-python",
   "name": "python",
   "nbconvert_exporter": "python",
   "pygments_lexer": "ipython3",
   "version": "3.11.8"
  }
 },
 "nbformat": 4,
 "nbformat_minor": 2
}
