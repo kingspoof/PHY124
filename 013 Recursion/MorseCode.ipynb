{
 "cells": [
  {
   "cell_type": "code",
   "execution_count": null,
   "metadata": {},
   "outputs": [],
   "source": [
    "from morsecode import MORSE as morse\n",
    "\n",
    "\n",
    "\n",
    "def decode_single(morse_dict, input):\n",
    "    if(len(input) == 1):\n",
    "        return morse_dict[input[0]]['label']\n",
    "    else:\n",
    "        return decode_single(morse_dict[input[0]]['children'], input[1::])\n",
    "\n",
    "\n",
    "def decode(morse, input):\n",
    "    split_input = input.split(' ')\n",
    "    ret = ''\n",
    "    for split in split_input:\n",
    "        ret += decode_single(morse, split)\n",
    "    return ret\n",
    "\n",
    "\n",
    "input = '- .. -- .'\n",
    "decode(morse, input)"
   ]
  }
 ],
 "metadata": {
  "kernelspec": {
   "display_name": "Python 3",
   "language": "python",
   "name": "python3"
  },
  "language_info": {
   "codemirror_mode": {
    "name": "ipython",
    "version": 3
   },
   "file_extension": ".py",
   "mimetype": "text/x-python",
   "name": "python",
   "nbconvert_exporter": "python",
   "pygments_lexer": "ipython3",
   "version": "3.11.9"
  }
 },
 "nbformat": 4,
 "nbformat_minor": 2
}
