{
 "cells": [
  {
   "cell_type": "code",
   "execution_count": null,
   "metadata": {},
   "outputs": [],
   "source": [
    "import numpy as np\n",
    "from scipy.fft import fft\n",
    "\n",
    "def fft2(A):\n",
    "    if(len(A) == 1): return A\n",
    "\n",
    "    even = fft2(A[0::2])\n",
    "    odd = fft2(A[1::2])\n",
    "    new_odd = [np.exp(-2j * np.pi * n / len(A)) *odd[n] for n in range(len(odd))]\n",
    "    \n",
    "    result = [even[n] + new_odd[n] for n in range(len(odd))] + [even[n] - new_odd[n] for n in range(len(odd))]\n",
    "    return result\n",
    "\n",
    "input = [5, 3, 4, 8, 5, 6, 5, 9]\n",
    "own = fft2(input)\n",
    "given = fft(input)\n",
    "\n",
    "\n",
    "for i in range(len(own)):\n",
    "    print(abs(own[i]), abs(given[i]))"
   ]
  }
 ],
 "metadata": {
  "kernelspec": {
   "display_name": "Python 3",
   "language": "python",
   "name": "python3"
  },
  "language_info": {
   "codemirror_mode": {
    "name": "ipython",
    "version": 3
   },
   "file_extension": ".py",
   "mimetype": "text/x-python",
   "name": "python",
   "nbconvert_exporter": "python",
   "pygments_lexer": "ipython3",
   "version": "3.11.9"
  }
 },
 "nbformat": 4,
 "nbformat_minor": 2
}
