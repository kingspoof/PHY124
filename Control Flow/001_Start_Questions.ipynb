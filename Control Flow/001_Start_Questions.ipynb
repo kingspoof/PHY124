{
 "cells": [
  {
   "cell_type": "code",
   "execution_count": 1,
   "metadata": {},
   "outputs": [
    {
     "name": "stdout",
     "output_type": "stream",
     "text": [
      "15 5\n"
     ]
    }
   ],
   "source": [
    "x = 5\n",
    "y = 15\n",
    "x = x + y # 5 + 15 = 20\n",
    "y = x - y # 20 - 15 = 5\n",
    "x = x - y # 20 - 5 = 15\n",
    "print(x,y) # 15, 5"
   ]
  },
  {
   "cell_type": "code",
   "execution_count": 2,
   "metadata": {},
   "outputs": [
    {
     "name": "stdout",
     "output_type": "stream",
     "text": [
      "1\n",
      "2\n",
      "3\n",
      "4\n",
      "5\n"
     ]
    }
   ],
   "source": [
    "i = 0\n",
    "while i<5:\n",
    "    i = i+1\n",
    "    print(i)\n",
    "\n",
    "# last line from this code is 5"
   ]
  },
  {
   "cell_type": "code",
   "execution_count": 3,
   "metadata": {},
   "outputs": [
    {
     "name": "stdout",
     "output_type": "stream",
     "text": [
      "0\n",
      "1\n",
      "2\n",
      "3\n",
      "4\n"
     ]
    }
   ],
   "source": [
    "i = 0\n",
    "while i<5:\n",
    "    print(i)\n",
    "    i = i+1\n",
    "\n",
    "# last line from this code is 4"
   ]
  },
  {
   "cell_type": "code",
   "execution_count": 4,
   "metadata": {},
   "outputs": [
    {
     "name": "stdout",
     "output_type": "stream",
     "text": [
      "3\n"
     ]
    }
   ],
   "source": [
    "i = 0\n",
    "j = 0\n",
    "while i<3 or j>5:\n",
    "    i = i+1\n",
    "    j = j+1\n",
    "print(i)"
   ]
  },
  {
   "cell_type": "code",
   "execution_count": 5,
   "metadata": {},
   "outputs": [
    {
     "name": "stdout",
     "output_type": "stream",
     "text": [
      "6\n"
     ]
    }
   ],
   "source": [
    "i = 0\n",
    "j = 0\n",
    "while i<3 or not (j>5):\n",
    "    i = i+1\n",
    "    j = j+1\n",
    "print(i)"
   ]
  },
  {
   "cell_type": "code",
   "execution_count": 6,
   "metadata": {},
   "outputs": [
    {
     "name": "stdout",
     "output_type": "stream",
     "text": [
      "6\n"
     ]
    }
   ],
   "source": [
    "a = 2\n",
    "b = 3\n",
    "if a == 1:\n",
    "    a = a + 1\n",
    "b = b*2\n",
    "print(b)"
   ]
  },
  {
   "cell_type": "code",
   "execution_count": 7,
   "metadata": {},
   "outputs": [
    {
     "name": "stdout",
     "output_type": "stream",
     "text": [
      "3\n"
     ]
    }
   ],
   "source": [
    "a = 2\n",
    "b = 3\n",
    "if a == 2:\n",
    "    a = a + 1\n",
    "else:\n",
    "    b = b*2\n",
    "print(b)"
   ]
  },
  {
   "cell_type": "code",
   "execution_count": 8,
   "metadata": {},
   "outputs": [
    {
     "name": "stdout",
     "output_type": "stream",
     "text": [
      "6\n"
     ]
    }
   ],
   "source": [
    "a = 2\n",
    "b = 3\n",
    "if a == 3:\n",
    "    a = a + 1\n",
    "else:\n",
    "    b = b*2\n",
    "print(b)"
   ]
  },
  {
   "cell_type": "code",
   "execution_count": 9,
   "metadata": {},
   "outputs": [
    {
     "name": "stdout",
     "output_type": "stream",
     "text": [
      "3\n"
     ]
    }
   ],
   "source": [
    "a = 2\n",
    "b = 3\n",
    "if a == 2:\n",
    "    a = a + 1\n",
    "elif b == 3:\n",
    "    b = b*2\n",
    "print(b)"
   ]
  },
  {
   "cell_type": "code",
   "execution_count": 10,
   "metadata": {},
   "outputs": [
    {
     "name": "stdout",
     "output_type": "stream",
     "text": [
      "11\n"
     ]
    }
   ],
   "source": [
    "a = 2\n",
    "b = 3\n",
    "if a == 3:\n",
    "    a = a + 1\n",
    "elif b == 3:\n",
    "    b = b*2\n",
    "    if b == 6:\n",
    "       b = b + 5\n",
    "else:\n",
    "    b = b - 1\n",
    "print(b)"
   ]
  },
  {
   "cell_type": "code",
   "execution_count": 11,
   "metadata": {},
   "outputs": [
    {
     "name": "stdout",
     "output_type": "stream",
     "text": [
      "6\n"
     ]
    }
   ],
   "source": [
    "a = 2\n",
    "b = 3\n",
    "if a == 3:\n",
    "    a = a + 1\n",
    "elif b == 3:\n",
    "    b = b*2\n",
    "    if b == 4:\n",
    "        b = b + 5\n",
    "    elif a == 3:\n",
    "        b = b + 6\n",
    "else:\n",
    "    b = b - 1\n",
    "print(b)"
   ]
  }
 ],
 "metadata": {
  "kernelspec": {
   "display_name": "Python 3",
   "language": "python",
   "name": "python3"
  },
  "language_info": {
   "codemirror_mode": {
    "name": "ipython",
    "version": 3
   },
   "file_extension": ".py",
   "mimetype": "text/x-python",
   "name": "python",
   "nbconvert_exporter": "python",
   "pygments_lexer": "ipython3",
   "version": "3.11.6"
  }
 },
 "nbformat": 4,
 "nbformat_minor": 2
}
